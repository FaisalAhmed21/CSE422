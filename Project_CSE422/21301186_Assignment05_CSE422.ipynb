{
  "cells": [
    {
      "cell_type": "code",
      "execution_count": 5,
      "metadata": {
        "id": "xjWqFlqcXHhj"
      },
      "outputs": [],
      "source": [
        "import pandas as pd\n",
        "import numpy as np\n",
        "from sklearn.preprocessing import MinMaxScaler\n",
        "import seaborn as sns"
      ]
    },
    {
      "cell_type": "code",
      "execution_count": 6,
      "metadata": {
        "colab": {
          "base_uri": "https://localhost:8080/",
          "height": 206
        },
        "id": "xKsFBnu0Xy4m",
        "outputId": "a6d1b756-799a-486c-d7a7-d11aae5cfab9"
      },
      "outputs": [
        {
          "data": {
            "text/html": [
              "<div>\n",
              "<style scoped>\n",
              "    .dataframe tbody tr th:only-of-type {\n",
              "        vertical-align: middle;\n",
              "    }\n",
              "\n",
              "    .dataframe tbody tr th {\n",
              "        vertical-align: top;\n",
              "    }\n",
              "\n",
              "    .dataframe thead th {\n",
              "        text-align: right;\n",
              "    }\n",
              "</style>\n",
              "<table border=\"1\" class=\"dataframe\">\n",
              "  <thead>\n",
              "    <tr style=\"text-align: right;\">\n",
              "      <th></th>\n",
              "      <th>price</th>\n",
              "      <th>area</th>\n",
              "      <th>bedrooms</th>\n",
              "      <th>bathrooms</th>\n",
              "      <th>stories</th>\n",
              "      <th>mainroad</th>\n",
              "      <th>guestroom</th>\n",
              "      <th>basement</th>\n",
              "      <th>hotwaterheating</th>\n",
              "      <th>airconditioning</th>\n",
              "      <th>parking</th>\n",
              "      <th>prefarea</th>\n",
              "      <th>furnishingstatus</th>\n",
              "    </tr>\n",
              "  </thead>\n",
              "  <tbody>\n",
              "    <tr>\n",
              "      <th>0</th>\n",
              "      <td>13300000</td>\n",
              "      <td>7420.0</td>\n",
              "      <td>4</td>\n",
              "      <td>2</td>\n",
              "      <td>3</td>\n",
              "      <td>yes</td>\n",
              "      <td>no</td>\n",
              "      <td>no</td>\n",
              "      <td>no</td>\n",
              "      <td>yes</td>\n",
              "      <td>2</td>\n",
              "      <td>yes</td>\n",
              "      <td>furnished</td>\n",
              "    </tr>\n",
              "    <tr>\n",
              "      <th>1</th>\n",
              "      <td>12250000</td>\n",
              "      <td>8960.0</td>\n",
              "      <td>4</td>\n",
              "      <td>4</td>\n",
              "      <td>4</td>\n",
              "      <td>yes</td>\n",
              "      <td>no</td>\n",
              "      <td>no</td>\n",
              "      <td>no</td>\n",
              "      <td>yes</td>\n",
              "      <td>3</td>\n",
              "      <td>no</td>\n",
              "      <td>furnished</td>\n",
              "    </tr>\n",
              "    <tr>\n",
              "      <th>2</th>\n",
              "      <td>12250000</td>\n",
              "      <td>9960.0</td>\n",
              "      <td>3</td>\n",
              "      <td>2</td>\n",
              "      <td>2</td>\n",
              "      <td>yes</td>\n",
              "      <td>no</td>\n",
              "      <td>yes</td>\n",
              "      <td>no</td>\n",
              "      <td>no</td>\n",
              "      <td>2</td>\n",
              "      <td>yes</td>\n",
              "      <td>semi-furnished</td>\n",
              "    </tr>\n",
              "    <tr>\n",
              "      <th>3</th>\n",
              "      <td>12215000</td>\n",
              "      <td>NaN</td>\n",
              "      <td>4</td>\n",
              "      <td>2</td>\n",
              "      <td>2</td>\n",
              "      <td>yes</td>\n",
              "      <td>no</td>\n",
              "      <td>yes</td>\n",
              "      <td>no</td>\n",
              "      <td>yes</td>\n",
              "      <td>3</td>\n",
              "      <td>yes</td>\n",
              "      <td>furnished</td>\n",
              "    </tr>\n",
              "    <tr>\n",
              "      <th>4</th>\n",
              "      <td>11410000</td>\n",
              "      <td>NaN</td>\n",
              "      <td>4</td>\n",
              "      <td>1</td>\n",
              "      <td>2</td>\n",
              "      <td>yes</td>\n",
              "      <td>yes</td>\n",
              "      <td>yes</td>\n",
              "      <td>no</td>\n",
              "      <td>yes</td>\n",
              "      <td>2</td>\n",
              "      <td>no</td>\n",
              "      <td>furnished</td>\n",
              "    </tr>\n",
              "  </tbody>\n",
              "</table>\n",
              "</div>"
            ],
            "text/plain": [
              "      price    area  bedrooms  bathrooms  stories mainroad guestroom basement  \\\n",
              "0  13300000  7420.0         4          2        3      yes        no       no   \n",
              "1  12250000  8960.0         4          4        4      yes        no       no   \n",
              "2  12250000  9960.0         3          2        2      yes        no      yes   \n",
              "3  12215000     NaN         4          2        2      yes        no      yes   \n",
              "4  11410000     NaN         4          1        2      yes       yes      yes   \n",
              "\n",
              "  hotwaterheating airconditioning  parking prefarea furnishingstatus  \n",
              "0              no             yes        2      yes        furnished  \n",
              "1              no             yes        3       no        furnished  \n",
              "2              no              no        2      yes   semi-furnished  \n",
              "3              no             yes        3      yes        furnished  \n",
              "4              no             yes        2       no        furnished  "
            ]
          },
          "execution_count": 6,
          "metadata": {},
          "output_type": "execute_result"
        }
      ],
      "source": [
        "lodging = pd.read_csv('Housing Price.csv')\n",
        "lodging.head()"
      ]
    },
    {
      "cell_type": "code",
      "execution_count": 7,
      "metadata": {
        "colab": {
          "base_uri": "https://localhost:8080/"
        },
        "id": "HQAnqznsYiU5",
        "outputId": "d6f64d86-7c79-4735-c8ae-dba5a5fddb7a"
      },
      "outputs": [
        {
          "data": {
            "text/plain": [
              "(545, 13)"
            ]
          },
          "execution_count": 7,
          "metadata": {},
          "output_type": "execute_result"
        }
      ],
      "source": [
        "lodging.shape"
      ]
    },
    {
      "cell_type": "code",
      "execution_count": 8,
      "metadata": {
        "colab": {
          "base_uri": "https://localhost:8080/",
          "height": 491
        },
        "id": "Cwwa3xXAsZ_J",
        "outputId": "e6d6098d-8f39-42b7-d26c-cd98e93dc96f"
      },
      "outputs": [
        {
          "data": {
            "text/plain": [
              "price               0\n",
              "area                9\n",
              "bedrooms            0\n",
              "bathrooms           0\n",
              "stories             0\n",
              "mainroad            0\n",
              "guestroom           0\n",
              "basement            0\n",
              "hotwaterheating     0\n",
              "airconditioning     0\n",
              "parking             0\n",
              "prefarea            0\n",
              "furnishingstatus    0\n",
              "dtype: int64"
            ]
          },
          "execution_count": 8,
          "metadata": {},
          "output_type": "execute_result"
        }
      ],
      "source": [
        "lodging.isnull().sum()"
      ]
    },
    {
      "cell_type": "code",
      "execution_count": 9,
      "metadata": {
        "colab": {
          "base_uri": "https://localhost:8080/"
        },
        "id": "1kxT72qosll3",
        "outputId": "3eca2294-1aad-4218-e900-e13c1c472bcc"
      },
      "outputs": [
        {
          "data": {
            "text/plain": [
              "(545, 13)"
            ]
          },
          "execution_count": 9,
          "metadata": {},
          "output_type": "execute_result"
        }
      ],
      "source": [
        "lodging1 = lodging.dropna(axis=0, subset = ['area'])\n",
        "lodging.shape"
      ]
    },
    {
      "cell_type": "code",
      "execution_count": 10,
      "metadata": {
        "colab": {
          "base_uri": "https://localhost:8080/"
        },
        "id": "SltT4kCns0Iy",
        "outputId": "47d99e8b-a8b8-4701-bce8-6e2a746c793a"
      },
      "outputs": [
        {
          "name": "stdout",
          "output_type": "stream",
          "text": [
            "There is duplicate row: False\n"
          ]
        }
      ],
      "source": [
        "print(\"There is duplicate row:\", lodging.duplicated().any())"
      ]
    },
    {
      "cell_type": "code",
      "execution_count": 11,
      "metadata": {
        "colab": {
          "base_uri": "https://localhost:8080/"
        },
        "id": "GGp7k_dovXRA",
        "outputId": "9415d8fc-4ecd-4d27-c8fc-f0bbc038e773"
      },
      "outputs": [
        {
          "name": "stdout",
          "output_type": "stream",
          "text": [
            "      price    area  bedrooms  bathrooms  stories  parking furnishingstatus  \\\n",
            "0  13300000  7420.0         4          2        3        2        furnished   \n",
            "1  12250000  8960.0         4          4        4        3        furnished   \n",
            "2  12250000  9960.0         3          2        2        2   semi-furnished   \n",
            "3  12215000     NaN         4          2        2        3        furnished   \n",
            "4  11410000     NaN         4          1        2        2        furnished   \n",
            "\n",
            "   mainroad_no  mainroad_yes  guestroom_no  guestroom_yes  basement_no  \\\n",
            "0        False          True          True          False         True   \n",
            "1        False          True          True          False         True   \n",
            "2        False          True          True          False        False   \n",
            "3        False          True          True          False        False   \n",
            "4        False          True         False           True        False   \n",
            "\n",
            "   basement_yes  hotwaterheating_no  hotwaterheating_yes  airconditioning_no  \\\n",
            "0         False                True                False               False   \n",
            "1         False                True                False               False   \n",
            "2          True                True                False                True   \n",
            "3          True                True                False               False   \n",
            "4          True                True                False               False   \n",
            "\n",
            "   airconditioning_yes  prefarea_no  prefarea_yes  \n",
            "0                 True        False          True  \n",
            "1                 True         True         False  \n",
            "2                False        False          True  \n",
            "3                 True        False          True  \n",
            "4                 True         True         False  \n"
          ]
        }
      ],
      "source": [
        "lodging1 = pd.get_dummies(lodging, columns=['mainroad', 'guestroom', 'basement', 'hotwaterheating', 'airconditioning', 'prefarea'])\n",
        "print(lodging1.head())"
      ]
    },
    {
      "cell_type": "code",
      "execution_count": 12,
      "metadata": {
        "colab": {
          "base_uri": "https://localhost:8080/"
        },
        "id": "UNDSK17P_-y1",
        "outputId": "b1b97b0f-e1cb-47b4-c9fc-25f5cd99db4c"
      },
      "outputs": [
        {
          "name": "stdout",
          "output_type": "stream",
          "text": [
            "              price          area    bedrooms   bathrooms     stories  \\\n",
            "count  5.450000e+02    536.000000  545.000000  545.000000  545.000000   \n",
            "mean   4.766729e+06   5087.304104    2.965138    1.286239    1.805505   \n",
            "std    1.870440e+06   2089.231412    0.738064    0.502470    0.867492   \n",
            "min    1.750000e+06   1650.000000    1.000000    1.000000    1.000000   \n",
            "25%    3.430000e+06   3562.500000    2.000000    1.000000    1.000000   \n",
            "50%    4.340000e+06   4505.000000    3.000000    1.000000    2.000000   \n",
            "75%    5.740000e+06   6360.000000    3.000000    2.000000    2.000000   \n",
            "max    1.330000e+07  15600.000000    6.000000    4.000000    4.000000   \n",
            "\n",
            "          parking  \n",
            "count  545.000000  \n",
            "mean     0.693578  \n",
            "std      0.861586  \n",
            "min      0.000000  \n",
            "25%      0.000000  \n",
            "50%      0.000000  \n",
            "75%      1.000000  \n",
            "max      3.000000  \n"
          ]
        }
      ],
      "source": [
        "print(lodging1.describe())"
      ]
    },
    {
      "cell_type": "code",
      "execution_count": 13,
      "metadata": {
        "colab": {
          "base_uri": "https://localhost:8080/"
        },
        "id": "NJoZDEWEAeGD",
        "outputId": "229f8584-c7f6-4a49-d7c1-74ce47847c96"
      },
      "outputs": [
        {
          "name": "stdout",
          "output_type": "stream",
          "text": [
            "        price      area  bedrooms  bathrooms  stories  parking  \\\n",
            "0    1.000000  0.413620         4          2        3        2   \n",
            "1    0.909091  0.524014         4          4        4        3   \n",
            "2    0.909091  0.595699         3          2        2        2   \n",
            "3    0.906061       NaN         4          2        2        3   \n",
            "4    0.836364       NaN         4          1        2        2   \n",
            "..        ...       ...       ...        ...      ...      ...   \n",
            "495  0.084848  0.168459         3          1        2        1   \n",
            "496  0.081818  0.168459         2          1        1        0   \n",
            "497  0.078788  0.163728         2          1        1        0   \n",
            "498  0.078788  0.025090         2          1        2        0   \n",
            "499  0.078788  0.141935         3          3        2        0   \n",
            "\n",
            "    furnishingstatus  mainroad_no  mainroad_yes  guestroom_no  guestroom_yes  \\\n",
            "0          furnished        False          True          True          False   \n",
            "1          furnished        False          True          True          False   \n",
            "2     semi-furnished        False          True          True          False   \n",
            "3          furnished        False          True          True          False   \n",
            "4          furnished        False          True         False           True   \n",
            "..               ...          ...           ...           ...            ...   \n",
            "495      unfurnished        False          True          True          False   \n",
            "496      unfurnished        False          True          True          False   \n",
            "497      unfurnished        False          True          True          False   \n",
            "498   semi-furnished        False          True          True          False   \n",
            "499      unfurnished         True         False         False           True   \n",
            "\n",
            "     basement_no  basement_yes  hotwaterheating_no  hotwaterheating_yes  \\\n",
            "0           True         False                True                False   \n",
            "1           True         False                True                False   \n",
            "2          False          True                True                False   \n",
            "3          False          True                True                False   \n",
            "4          False          True                True                False   \n",
            "..           ...           ...                 ...                  ...   \n",
            "495         True         False                True                False   \n",
            "496         True         False                True                False   \n",
            "497         True         False                True                False   \n",
            "498         True         False                True                False   \n",
            "499         True         False                True                False   \n",
            "\n",
            "     airconditioning_no  airconditioning_yes  prefarea_no  prefarea_yes  \n",
            "0                 False                 True        False          True  \n",
            "1                 False                 True         True         False  \n",
            "2                  True                False        False          True  \n",
            "3                 False                 True        False          True  \n",
            "4                 False                 True         True         False  \n",
            "..                  ...                  ...          ...           ...  \n",
            "495                True                False         True         False  \n",
            "496                True                False         True         False  \n",
            "497                True                False         True         False  \n",
            "498                True                False         True         False  \n",
            "499                True                False         True         False  \n",
            "\n",
            "[500 rows x 19 columns]\n"
          ]
        },
        {
          "data": {
            "text/plain": [
              "(545, 19)"
            ]
          },
          "execution_count": 13,
          "metadata": {},
          "output_type": "execute_result"
        }
      ],
      "source": [
        "scaling = MinMaxScaler()\n",
        "lodging1[['price', 'area']] = scaling.fit_transform(lodging1[['price', 'area']])\n",
        "print(lodging1.head(500))\n",
        "lodging1.shape"
      ]
    },
    {
      "cell_type": "code",
      "execution_count": 14,
      "metadata": {
        "colab": {
          "base_uri": "https://localhost:8080/",
          "height": 617
        },
        "id": "JrdUNlciUpGK",
        "outputId": "03e18f81-5fee-4a64-9d8c-5d4fc8a44e1c"
      },
      "outputs": [
        {
          "name": "stdout",
          "output_type": "stream",
          "text": [
            "              price      area  bedrooms  bathrooms   stories   parking\n",
            "price      1.000000  0.513133  0.366494   0.517545  0.420712  0.384394\n",
            "area       0.513133  1.000000  0.118208   0.159484  0.076078  0.351616\n",
            "bedrooms   0.366494  0.118208  1.000000   0.373930  0.408564  0.139270\n",
            "bathrooms  0.517545  0.159484  0.373930   1.000000  0.326165  0.177496\n",
            "stories    0.420712  0.076078  0.408564   0.326165  1.000000  0.045547\n",
            "parking    0.384394  0.351616  0.139270   0.177496  0.045547  1.000000\n"
          ]
        },
        {
          "data": {
            "image/png": "[encoded data removed]",
            "text/plain": [
              "<Figure size 432x288 with 2 Axes>"
            ]
          },
          "metadata": {
            "needs_background": "light"
          },
          "output_type": "display_data"
        }
      ],
      "source": [
        "lodging_quantized = lodging1.select_dtypes(include=['int64', 'float64'])\n",
        "lodging_cor = lodging_quantized.corr()\n",
        "print(lodging_cor)\n",
        "graph = sns.heatmap(lodging_cor, cmap=\"YlGnBu\")"
      ]
    },
    {
      "cell_type": "code",
      "execution_count": 41,
      "metadata": {},
      "outputs": [
        {
          "name": "stdout",
          "output_type": "stream",
          "text": [
            "Linear Regression:\n",
            "MSE: 0.008733207579084608\n",
            "RMSE: 0.09345163229759343\n",
            "R-squared: 0.6752880933264422\n"
          ]
        }
      ],
      "source": [
        "from sklearn.model_selection import train_test_split\n",
        "from sklearn.linear_model import LinearRegression, LogisticRegression\n",
        "from sklearn.metrics import mean_squared_error, r2_score, accuracy_score, confusion_matrix\n",
        "\n",
        "X = lodging_quantized.drop(columns=['price', 'area']) \n",
        "y = lodging_quantized['price']\n",
        "X_train, X_test, y_train, y_test = train_test_split(X, y, test_size=0.5, random_state=0)\n",
        "\n",
        "linear_model = LinearRegression()\n",
        "linear_model.fit(X_train, y_train)\n",
        "\n",
        "y_pred_linear = linear_model.predict(X_test)\n",
        "\n",
        "\n",
        "mse = mean_squared_error(y_test, y_pred_linear)\n",
        "rmse = np.sqrt(mse)\n",
        "r_squared = r2_score(y_test, y_pred_linear)\n",
        "\n",
        "print(f\"Linear Regression:\")\n",
        "print(f\"MSE: {mse}\")\n",
        "print(f\"RMSE: {rmse}\")\n",
        "print(f\"R-squared: {r_squared}\")\n",
        "\n"
      ]
    },
    {
      "cell_type": "code",
      "execution_count": 42,
      "metadata": {},
      "outputs": [
        {
          "name": "stdout",
          "output_type": "stream",
          "text": [
            "Logistic Regression:\n",
            "Accuracy: 0.7326007326007326\n"
          ]
        }
      ],
      "source": [
        "threshold = lodging_quantized['price'].median()\n",
        "\n",
        "\n",
        "lodging_quantized['price_binary'] = (lodging_quantized['price'] > threshold).astype(int)\n",
        "\n",
        "\n",
        "X_logistic = lodging_quantized.drop(columns=['price', 'price_binary', 'area'])\n",
        "y_logistic = lodging_quantized['price_binary']\n",
        "\n",
        "X_train_log, X_test_log, y_train_log, y_test_log = train_test_split(X_logistic, y_logistic, test_size=0.5, random_state=0)\n",
        "\n",
        "logistic_model = LogisticRegression(max_iter=5000)\n",
        "logistic_model.fit(X_train_log, y_train_log)\n",
        "\n",
        "y_pred_logistic = logistic_model.predict(X_test_log)\n",
        "\n",
        "accuracy = accuracy_score(y_test_log, y_pred_logistic) \n",
        "\n",
        "\n",
        "print(f\"Logistic Regression:\")\n",
        "print(f\"Accuracy: {accuracy}\")"
      ]
    }
  ],
  "metadata": {
    "colab": {
      "provenance": []
    },
    "kernelspec": {
      "display_name": "Python 3",
      "name": "python3"
    },
    "language_info": {
      "codemirror_mode": {
        "name": "ipython",
        "version": 3
      },
      "file_extension": ".py",
      "mimetype": "text/x-python",
      "name": "python",
      "nbconvert_exporter": "python",
      "pygments_lexer": "ipython3",
      "version": "3.10.0"
    }
  },
  "nbformat": 4,
  "nbformat_minor": 0
}
